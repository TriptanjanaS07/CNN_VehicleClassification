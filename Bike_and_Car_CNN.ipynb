{
  "nbformat": 4,
  "nbformat_minor": 0,
  "metadata": {
    "colab": {
      "provenance": []
    },
    "kernelspec": {
      "name": "python3",
      "display_name": "Python 3"
    },
    "language_info": {
      "name": "python"
    },
    "accelerator": "GPU",
    "gpuClass": "standard"
  },
  "cells": [
    {
      "cell_type": "code",
      "execution_count": 1,
      "metadata": {
        "id": "3G3aHKOx2mi4"
      },
      "outputs": [],
      "source": [
        "import tensorflow as tf\n",
        "from tensorflow import keras\n",
        "from keras import Sequential\n",
        "from tensorflow.keras import Model\n",
        "from keras.layers import Dense,Conv2D,MaxPooling2D,Flatten"
      ]
    },
    {
      "cell_type": "code",
      "source": [
        "#generators\n",
        "train_ds = keras.utils.image_dataset_from_directory(\n",
        "    directory = '/content/drive/MyDrive/bike and cars/Bike and cars/Train',\n",
        "    labels='inferred',\n",
        "    label_mode ='int',\n",
        "    batch_size=10,\n",
        "    image_size=(256, 256)\n",
        ")\n",
        "validation_ds = keras.utils.image_dataset_from_directory(\n",
        "    directory = '/content/drive/MyDrive/bike and cars/Bike and cars/Test',\n",
        "    labels='inferred',\n",
        "    label_mode ='int',\n",
        "    batch_size=10,\n",
        "    image_size=(256, 256)\n",
        ")"
      ],
      "metadata": {
        "colab": {
          "base_uri": "https://localhost:8080/"
        },
        "id": "FkZCRitl4WwW",
        "outputId": "ae675470-7bb1-4dec-c8e8-4a7b82d5b088"
      },
      "execution_count": 4,
      "outputs": [
        {
          "output_type": "stream",
          "name": "stdout",
          "text": [
            "Found 102 files belonging to 2 classes.\n",
            "Found 30 files belonging to 2 classes.\n"
          ]
        }
      ]
    },
    {
      "cell_type": "code",
      "source": [
        "from google.colab import drive\n",
        "drive.mount('/content/drive')"
      ],
      "metadata": {
        "colab": {
          "base_uri": "https://localhost:8080/"
        },
        "id": "HsZefiN0aBwr",
        "outputId": "2353620f-7e11-4aab-9163-a920adc77082"
      },
      "execution_count": 3,
      "outputs": [
        {
          "output_type": "stream",
          "name": "stdout",
          "text": [
            "Mounted at /content/drive\n"
          ]
        }
      ]
    },
    {
      "cell_type": "code",
      "source": [
        "#Normalize\n",
        "def process(image,label):\n",
        "    image = tf.cast(image/5. ,tf.float32)\n",
        "    return image,label\n",
        "\n",
        "train_ds = train_ds.map(process)\n",
        "validation_ds = validation_ds.map(process)"
      ],
      "metadata": {
        "id": "n8JMovp08id9"
      },
      "execution_count": 5,
      "outputs": []
    },
    {
      "cell_type": "code",
      "source": [
        "# create CNN model\n",
        "\n",
        "model = Sequential()\n",
        "\n",
        "model.add(Conv2D(10,kernel_size=(3,3),padding='valid',activation='relu',input_shape=(256,256,3)))\n",
        "model.add(MaxPooling2D(pool_size=(2,2),strides=2,padding='valid'))\n",
        "\n",
        "model.add(Conv2D(20,kernel_size=(3,3),padding='valid',activation='relu'))\n",
        "model.add(MaxPooling2D(pool_size=(2,2),strides=2,padding='valid'))\n",
        "\n",
        "model.add(Conv2D(40,kernel_size=(3,3),padding='valid',activation='relu'))\n",
        "model.add(MaxPooling2D(pool_size=(2,2),strides=2,padding='valid'))\n",
        "\n",
        "model.add(Flatten())\n",
        "\n",
        "model.add(Dense(40,activation='relu'))\n",
        "model.add(Dense(20,activation='relu'))\n",
        "model.add(Dense(1,activation='sigmoid'))"
      ],
      "metadata": {
        "id": "6YF3MSIw9fp0"
      },
      "execution_count": 6,
      "outputs": []
    },
    {
      "cell_type": "code",
      "source": [
        "model.summary()"
      ],
      "metadata": {
        "colab": {
          "base_uri": "https://localhost:8080/"
        },
        "id": "QaI5jtZR-g0E",
        "outputId": "10394edd-fd32-4902-ba51-f2edb0e6652c"
      },
      "execution_count": 7,
      "outputs": [
        {
          "output_type": "stream",
          "name": "stdout",
          "text": [
            "Model: \"sequential\"\n",
            "_________________________________________________________________\n",
            " Layer (type)                Output Shape              Param #   \n",
            "=================================================================\n",
            " conv2d (Conv2D)             (None, 254, 254, 10)      280       \n",
            "                                                                 \n",
            " max_pooling2d (MaxPooling2D  (None, 127, 127, 10)     0         \n",
            " )                                                               \n",
            "                                                                 \n",
            " conv2d_1 (Conv2D)           (None, 125, 125, 20)      1820      \n",
            "                                                                 \n",
            " max_pooling2d_1 (MaxPooling  (None, 62, 62, 20)       0         \n",
            " 2D)                                                             \n",
            "                                                                 \n",
            " conv2d_2 (Conv2D)           (None, 60, 60, 40)        7240      \n",
            "                                                                 \n",
            " max_pooling2d_2 (MaxPooling  (None, 30, 30, 40)       0         \n",
            " 2D)                                                             \n",
            "                                                                 \n",
            " flatten (Flatten)           (None, 36000)             0         \n",
            "                                                                 \n",
            " dense (Dense)               (None, 40)                1440040   \n",
            "                                                                 \n",
            " dense_1 (Dense)             (None, 20)                820       \n",
            "                                                                 \n",
            " dense_2 (Dense)             (None, 1)                 21        \n",
            "                                                                 \n",
            "=================================================================\n",
            "Total params: 1,450,221\n",
            "Trainable params: 1,450,221\n",
            "Non-trainable params: 0\n",
            "_________________________________________________________________\n"
          ]
        }
      ]
    },
    {
      "cell_type": "code",
      "source": [
        "model.compile(optimizer='adam',loss='binary_crossentropy',metrics=['accuracy'])"
      ],
      "metadata": {
        "id": "i5O17woT-wUI"
      },
      "execution_count": 8,
      "outputs": []
    },
    {
      "cell_type": "code",
      "source": [
        "history = model.fit(train_ds,epochs=10,validation_data=validation_ds)"
      ],
      "metadata": {
        "colab": {
          "base_uri": "https://localhost:8080/"
        },
        "id": "qa32c0uu_MQp",
        "outputId": "e005ab5a-f34e-41fe-b092-c0f18b73d669"
      },
      "execution_count": 9,
      "outputs": [
        {
          "output_type": "stream",
          "name": "stdout",
          "text": [
            "Epoch 1/10\n",
            "11/11 [==============================] - 28s 559ms/step - loss: 7.7396 - accuracy: 0.4412 - val_loss: 1.4903 - val_accuracy: 0.5000\n",
            "Epoch 2/10\n",
            "11/11 [==============================] - 1s 37ms/step - loss: 1.0091 - accuracy: 0.6373 - val_loss: 0.6282 - val_accuracy: 0.5333\n",
            "Epoch 3/10\n",
            "11/11 [==============================] - 1s 36ms/step - loss: 0.4071 - accuracy: 0.8529 - val_loss: 0.5486 - val_accuracy: 0.6667\n",
            "Epoch 4/10\n",
            "11/11 [==============================] - 1s 37ms/step - loss: 0.1611 - accuracy: 0.9706 - val_loss: 0.6138 - val_accuracy: 0.6333\n",
            "Epoch 5/10\n",
            "11/11 [==============================] - 0s 28ms/step - loss: 0.0586 - accuracy: 0.9902 - val_loss: 0.7435 - val_accuracy: 0.7000\n",
            "Epoch 6/10\n",
            "11/11 [==============================] - 0s 27ms/step - loss: 0.0341 - accuracy: 0.9902 - val_loss: 1.1816 - val_accuracy: 0.6667\n",
            "Epoch 7/10\n",
            "11/11 [==============================] - 1s 32ms/step - loss: 0.0310 - accuracy: 1.0000 - val_loss: 0.7088 - val_accuracy: 0.7000\n",
            "Epoch 8/10\n",
            "11/11 [==============================] - 0s 25ms/step - loss: 0.0222 - accuracy: 0.9902 - val_loss: 0.5239 - val_accuracy: 0.7333\n",
            "Epoch 9/10\n",
            "11/11 [==============================] - 0s 27ms/step - loss: 0.0049 - accuracy: 1.0000 - val_loss: 0.5169 - val_accuracy: 0.7667\n",
            "Epoch 10/10\n",
            "11/11 [==============================] - 0s 33ms/step - loss: 0.0024 - accuracy: 1.0000 - val_loss: 0.6913 - val_accuracy: 0.8333\n"
          ]
        }
      ]
    },
    {
      "cell_type": "code",
      "source": [
        "import matplotlib.pyplot as plt\n",
        "\n",
        "plt.plot(history.history['accuracy'],color='red',label='train')\n",
        "plt.plot(history.history['val_accuracy'],color='blue',label='validation')\n",
        "plt.legend()\n",
        "plt.show()"
      ],
      "metadata": {
        "colab": {
          "base_uri": "https://localhost:8080/",
          "height": 430
        },
        "id": "Xl6atnRAJGD3",
        "outputId": "7434b633-0045-487e-fdd5-2b8f1f61187f"
      },
      "execution_count": null,
      "outputs": [
        {
          "output_type": "display_data",
          "data": {
            "text/plain": [
              "<Figure size 640x480 with 1 Axes>"
            ],
            "image/png": "[encoded data removed]"
          },
          "metadata": {}
        }
      ]
    },
    {
      "cell_type": "code",
      "source": [
        "import cv2"
      ],
      "metadata": {
        "id": "SdT7LtgdKBvQ"
      },
      "execution_count": 10,
      "outputs": []
    },
    {
      "cell_type": "code",
      "source": [
        "def predict(image):\n",
        "  test_img = cv2.imread(image)\n",
        "  print(f'The image is of shape{test_img.shape}')\n",
        "  test_img = cv2.resize(test_img,(256,256))\n",
        "  test_input = test_img.reshape((1,256,256,3))\n",
        "  res = model.predict(test_input)\n",
        "  if res[0][0] > 0.5:\n",
        "    print(\"The image is of a Car\")\n",
        "  else:\n",
        "    print(\"The image is of a Bike\")"
      ],
      "metadata": {
        "id": "OHVrI_I5P8VM"
      },
      "execution_count": 11,
      "outputs": []
    },
    {
      "cell_type": "code",
      "source": [
        "predict('/content/featured-4.jpeg')"
      ],
      "metadata": {
        "id": "x7OQ2UXYQ5n1",
        "colab": {
          "base_uri": "https://localhost:8080/"
        },
        "outputId": "2fa0d5ee-fdd7-46b3-d8e0-f998ec8eb150"
      },
      "execution_count": 14,
      "outputs": [
        {
          "output_type": "stream",
          "name": "stdout",
          "text": [
            "The image is of shape(500, 1170, 3)\n",
            "1/1 [==============================] - 0s 19ms/step\n",
            "The image is of a Bike\n"
          ]
        }
      ]
    }
  ]
}